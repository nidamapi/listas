{
  "nbformat": 4,
  "nbformat_minor": 0,
  "metadata": {
    "colab": {
      "provenance": [],
      "authorship_tag": "ABX9TyPKoAkxPf4c3IPb3/OCYn0Q",
      "include_colab_link": true
    },
    "kernelspec": {
      "name": "python3",
      "display_name": "Python 3"
    },
    "language_info": {
      "name": "python"
    }
  },
  "cells": [
    {
      "cell_type": "markdown",
      "metadata": {
        "id": "view-in-github",
        "colab_type": "text"
      },
      "source": [
        "<a href=\"https://colab.research.google.com/github/nidamapi/listas/blob/main/listas.ipynb\" target=\"_parent\"><img src=\"https://colab.research.google.com/assets/colab-badge.svg\" alt=\"Open In Colab\"/></a>"
      ]
    },
    {
      "cell_type": "markdown",
      "source": [
        "# Listas\n",
        "\n",
        "- Una lista hace referancia a una colecciòn de datos que pueden ser nùmeros, cadenas o algùn otro tipo.\n",
        "- Son colecciones ordenadas de datos, lo que implica que importa el orden en el cuàl se encuentran sus elementos.\n",
        "- El primer elemento ocupa la posiciòn 0, el segundo la 1, y asì sucesivamente.\n",
        "- Son mutables: una vez creada la lista, esta puede modificarse, se le pueden agregar o quitar elementos.\n",
        "- En Python estàn representadas por el tipo ***list*** y para definirlas se utiliza la siguiente sintàxis:\n",
        "\n",
        "```nombre_lista = [valor1, valor2,..., valorn]```\n",
        "\n",
        "- Los elementos pueden ser de cualquier tipo, incluso puede haber tipos diferentes en una misma lista.\n",
        "- Tambièn es posible crear una lista usando el constructor ```list()```\n"
      ],
      "metadata": {
        "id": "7AjtkPRAChxr"
      }
    },
    {
      "cell_type": "code",
      "source": [
        "# Ejemplo 1\n",
        "\n",
        "# ================================\n",
        "# Usando los [] y dando valores para inicializar las listas\n",
        "# ================================\n",
        "\n",
        "dias_laborables = ['Lunes', 'Martes', 'Miercoles', 'Jueves', 'Viernes']\n",
        "print(dias_laborables)\n",
        "\n",
        "colores_primarios = ['Rojo', 'Amarillo', 'Azul']\n",
        "print(colores_primarios)\n",
        "\n",
        "precios = [205.30, 107.18, 25, 450, 310.89, 170.23, 340]\n",
        "print(precios)\n",
        "print(type(precios))\n",
        "mezcolanza = [12, 'octubre', 1492, True]\n",
        "lista_vacia = []\n",
        "\n",
        "# ================================\n",
        "# Usando el constructor list()\n",
        "# ================================\n",
        "lista_vacia2 = list()\n",
        "lista_3 = list(range(0,30,2))\n",
        "print(lista_3)\n",
        "lista_4 = list(range(29,0,-2))\n",
        "print(lista_4)\n",
        "lista_5 = list('Nicolle Daniela')\n",
        "print(lista_5)\n",
        "frase = 'Nicolle Daniela Macìas Piracòn'\n",
        "lista_6 = frase.split()\n",
        "print(lista_6)"
      ],
      "metadata": {
        "collapsed": true,
        "id": "FfsfdYidCqgl"
      },
      "execution_count": null,
      "outputs": []
    },
    {
      "cell_type": "markdown",
      "source": [
        "## Operaciones\n",
        "\n",
        "### Operador +\n",
        "\n",
        "- Concatenar o pegar los elementos de una lista a final de otra\n",
        "\n",
        "### Operador *\n",
        "\n",
        "- Repetir la secuencia de elementos de la lista tantas veces como lo indique el valor que acompaña el operador\n",
        "\n"
      ],
      "metadata": {
        "id": "JkIHTqRNQvhw"
      }
    },
    {
      "cell_type": "code",
      "source": [
        "dias_laborables = ['Lunes', 'Martes', 'Miercoles', 'Jueves', 'Viernes']\n",
        "\n",
        "colores_primarios = ['Rojo', 'Amarillo', 'Azul']\n",
        "\n",
        "precios = [205.30, 107.18, 25, 450, 310.89, 170.23, 340]\n",
        "\n",
        "# Acceso a los elementos de una lista\n",
        "\n",
        "print(dias_laborables[0])\n",
        "print(dias_laborables[-1])\n",
        "print(dias_laborables[-5])\n",
        "\n",
        "# Operador +\n",
        "\n",
        "fin_semana = ['Sabado', 'Domingo']\n",
        "semana = dias_laborables + fin_semana\n",
        "print(semana)\n",
        "\n",
        "# Operador *\n",
        "colores_repetidos = colores_primarios * 3\n",
        "print(colores_repetidos)\n",
        "\n",
        "\n",
        "\n"
      ],
      "metadata": {
        "collapsed": true,
        "id": "CysR2qUxRaog"
      },
      "execution_count": null,
      "outputs": []
    },
    {
      "cell_type": "markdown",
      "source": [
        "## Funciones asociadas a las listas\n"
      ],
      "metadata": {
        "id": "7GZ2mimzUIZu"
      }
    },
    {
      "cell_type": "code",
      "source": [
        "dias_laborables = ['Lunes', 'Martes', 'Miercoles', 'Jueves', 'Viernes']\n",
        "\n",
        "colores_primarios = ['Rojo', 'Amarillo', 'Azul']\n",
        "\n",
        "precios = [205.30, 107.18, 25, 450, 310.89, 170.23, 340]\n",
        "\n",
        "pares = list(range(0,30,2))\n",
        "\n",
        "impares = list(range(29,0,-2))\n",
        "\n",
        "colores_repetidos = colores_primarios * 3\n",
        "\n",
        "# append(): agrega un elemento al final de la lista\n",
        "dias_laborables.append('Sabado')\n",
        "print(dias_laborables)\n",
        "\n",
        "# len(): Total de elementos de la lista\n",
        "print('Total de precios = ' , len (precios))\n",
        "\n",
        "# count(): cuenta el nùmero de veces que aparece un elemento en la lista\n",
        "print(f\"El lunes aparece {dias_laborables.count('Lunes')} vez(veces)\")\n",
        "\n",
        "# insert(): agrega en la posiciòn indicada por el indice el nuevo valor, desplazando los demàs elementos hacia la derecha. Si el indice es mayor al tamaño de la lista, lo agrega al final\n",
        "colores_primarios.insert(2, 'Verde')\n",
        "print(colores_primarios)\n",
        "\n",
        "# remove(): quita el elemeto de la lista. Si el elemento no està lanza una excepciòn.\n",
        "dias_laborables.remove('Sabado')\n",
        "print(dias_laborables)\n",
        "\n",
        "# sort(): ordena la lista de menor a mayor\n",
        "precios.sort()\n",
        "print(precios)\n",
        "precios.sort(reverse=True)\n",
        "print(precios)\n",
        "\n",
        "# reverse():procesa los elementos de una secuencia en orden inverso\n",
        "\n",
        "# pop():elimina un elemento de la posición especificada en una lista o diccionario y devolverlo\n",
        "\n",
        "# clear(): elimina todos los elementos de un diccionario\n",
        "\n",
        "# del():"
      ],
      "metadata": {
        "id": "VOEYweQLUVCs"
      },
      "execution_count": null,
      "outputs": []
    },
    {
      "cell_type": "markdown",
      "source": [
        "## Participaciòn o divisiòn de listas (slicing o rebanadas)\n",
        "\n",
        "-Se pueden generar sublistas a partir de una lista por medio de la participaciòn (divisiòn) o slicing\n",
        "- Para obtener una sublista se usa la sintasis: ```sublista =lista[inicio-.fin:n]```\n"
      ],
      "metadata": {
        "id": "a_BS9i7vf4_n"
      }
    },
    {
      "cell_type": "code",
      "source": [
        "# se crea una lista de nùmeros enteros\n",
        "lista_1 = [1,2,3,4,5,6]\n",
        "\n",
        "# sublista con los elementos de las posiciones 0 a la 2 inclusive\n",
        "sublista_1 = lista_1[0:3]\n",
        "print(sublista_1)\n",
        "\n",
        "# sublista con los elementos 0 a la 3 inclusive\n",
        "sublista_2 = lista_1[:4]\n",
        "print(sublista_2)\n",
        "\n",
        "# sublista con los elementos 3 a la 5 inclusive\n",
        "sublista_3 = lista_1[3:]\n",
        "print(sublista_3)\n",
        "\n",
        "# sublista con los elementos desde el inicio hasta el final con saltos de a 2\n",
        "sublista_4 = lista_1[::2]\n",
        "print(sublista_4)\n",
        "\n",
        "# sublista con los elementos desde el final hasta el inicio con saltos de a 2\n",
        "sublista_5 = lista_1[::-2]\n",
        "print(sublista_4)\n",
        "\n"
      ],
      "metadata": {
        "colab": {
          "base_uri": "https://localhost:8080/"
        },
        "id": "ze6SFlh1gsQM",
        "outputId": "368f5432-2b5d-4af4-fd90-1821d03b0e92"
      },
      "execution_count": 17,
      "outputs": [
        {
          "output_type": "stream",
          "name": "stdout",
          "text": [
            "[1, 2, 3]\n",
            "[1, 2, 3, 4]\n",
            "[4, 5, 6]\n",
            "[1, 3, 5]\n",
            "[1, 3, 5]\n"
          ]
        }
      ]
    }
  ]
}